{
 "cells": [
  {
   "cell_type": "markdown",
   "metadata": {
    "deletable": false,
    "editable": false,
    "id": "E0vqbgi9ay0H"
   },
   "source": [
    "# Яндекс Музыка"
   ]
  },
  {
   "cell_type": "markdown",
   "metadata": {
    "deletable": false,
    "editable": false,
    "id": "VUC88oWjTJw2"
   },
   "source": [
    "Сравнение Москвы и Петербурга окружено мифами. Например:\n",
    " * Москва — мегаполис, подчинённый жёсткому ритму рабочей недели;\n",
    " * Петербург — культурная столица, со своими вкусами.\n",
    "\n",
    "На данных Яндекс Музыки вы сравните поведение пользователей двух столиц.\n",
    "\n",
    "**Цель исследования** — проверьте три гипотезы:\n",
    "1. Активность пользователей зависит от дня недели. Причём в Москве и Петербурге это проявляется по-разному.\n",
    "2. В понедельник утром в Москве преобладают одни жанры, а в Петербурге — другие. Так же и вечером пятницы преобладают разные жанры — в зависимости от города.\n",
    "3. Москва и Петербург предпочитают разные жанры музыки. В Москве чаще слушают поп-музыку, в Петербурге — русский рэп.\n",
    "\n",
    "**Ход исследования**\n",
    "\n",
    "Данные о поведении пользователей вы получите из файла `yandex_music_project.csv`. О качестве данных ничего не известно. Поэтому перед проверкой гипотез понадобится обзор данных.\n",
    "\n",
    "Вы проверите данные на ошибки и оцените их влияние на исследование. Затем, на этапе предобработки вы поищете возможность исправить самые критичные ошибки данных.\n",
    "\n",
    "Таким образом, исследование пройдёт в три этапа:\n",
    " 1. Обзор данных.\n",
    " 2. Предобработка данных.\n",
    " 3. Проверка гипотез.\n",
    "\n"
   ]
  },
  {
   "cell_type": "markdown",
   "metadata": {
    "deletable": false,
    "editable": false,
    "id": "Ml1hmfXC_Zcs"
   },
   "source": [
    "## Обзор данных\n",
    "\n",
    "Составьте первое представление о данных Яндекс Музыки.\n",
    "\n",
    "\n"
   ]
  },
  {
   "cell_type": "markdown",
   "metadata": {
    "deletable": false,
    "editable": false,
    "id": "57eAOGIz_Zcs",
    "tags": [
     "start_task"
    ]
   },
   "source": [
    "**Задание 1**"
   ]
  },
  {
   "cell_type": "code",
   "execution_count": 2,
   "metadata": {
    "deletable": false,
    "id": "AXN7PHPN_Zcs"
   },
   "outputs": [],
   "source": [
    "# импорт библиотеки pandas\n",
    "import pandas as pd"
   ]
  },
  {
   "cell_type": "markdown",
   "metadata": {
    "deletable": false,
    "editable": false,
    "id": "SG23P8tt_Zcs",
    "tags": [
     "start_task"
    ]
   },
   "source": [
    "**Задание 2**"
   ]
  },
  {
   "cell_type": "code",
   "execution_count": 3,
   "metadata": {
    "deletable": false,
    "id": "fFVu7vqh_Zct",
    "scrolled": true
   },
   "outputs": [],
   "source": [
    "# чтение файла с данными и сохранение в df\n",
    "df = pd.read_csv('/datasets/yandex_music_project.csv')"
   ]
  },
  {
   "cell_type": "markdown",
   "metadata": {
    "deletable": false,
    "editable": false,
    "id": "rDoOMd3uTqnZ",
    "tags": [
     "start_task"
    ]
   },
   "source": [
    "**Задание 3**"
   ]
  },
  {
   "cell_type": "code",
   "execution_count": 4,
   "metadata": {
    "deletable": false,
    "id": "oWTVX3gW_Zct"
   },
   "outputs": [
    {
     "data": {
      "text/html": [
       "<div>\n",
       "<style scoped>\n",
       "    .dataframe tbody tr th:only-of-type {\n",
       "        vertical-align: middle;\n",
       "    }\n",
       "\n",
       "    .dataframe tbody tr th {\n",
       "        vertical-align: top;\n",
       "    }\n",
       "\n",
       "    .dataframe thead th {\n",
       "        text-align: right;\n",
       "    }\n",
       "</style>\n",
       "<table border=\"1\" class=\"dataframe\">\n",
       "  <thead>\n",
       "    <tr style=\"text-align: right;\">\n",
       "      <th></th>\n",
       "      <th>userID</th>\n",
       "      <th>Track</th>\n",
       "      <th>artist</th>\n",
       "      <th>genre</th>\n",
       "      <th>City</th>\n",
       "      <th>time</th>\n",
       "      <th>Day</th>\n",
       "    </tr>\n",
       "  </thead>\n",
       "  <tbody>\n",
       "    <tr>\n",
       "      <th>0</th>\n",
       "      <td>FFB692EC</td>\n",
       "      <td>Kamigata To Boots</td>\n",
       "      <td>The Mass Missile</td>\n",
       "      <td>rock</td>\n",
       "      <td>Saint-Petersburg</td>\n",
       "      <td>20:28:33</td>\n",
       "      <td>Wednesday</td>\n",
       "    </tr>\n",
       "    <tr>\n",
       "      <th>1</th>\n",
       "      <td>55204538</td>\n",
       "      <td>Delayed Because of Accident</td>\n",
       "      <td>Andreas Rönnberg</td>\n",
       "      <td>rock</td>\n",
       "      <td>Moscow</td>\n",
       "      <td>14:07:09</td>\n",
       "      <td>Friday</td>\n",
       "    </tr>\n",
       "    <tr>\n",
       "      <th>2</th>\n",
       "      <td>20EC38</td>\n",
       "      <td>Funiculì funiculà</td>\n",
       "      <td>Mario Lanza</td>\n",
       "      <td>pop</td>\n",
       "      <td>Saint-Petersburg</td>\n",
       "      <td>20:58:07</td>\n",
       "      <td>Wednesday</td>\n",
       "    </tr>\n",
       "    <tr>\n",
       "      <th>3</th>\n",
       "      <td>A3DD03C9</td>\n",
       "      <td>Dragons in the Sunset</td>\n",
       "      <td>Fire + Ice</td>\n",
       "      <td>folk</td>\n",
       "      <td>Saint-Petersburg</td>\n",
       "      <td>08:37:09</td>\n",
       "      <td>Monday</td>\n",
       "    </tr>\n",
       "    <tr>\n",
       "      <th>4</th>\n",
       "      <td>E2DC1FAE</td>\n",
       "      <td>Soul People</td>\n",
       "      <td>Space Echo</td>\n",
       "      <td>dance</td>\n",
       "      <td>Moscow</td>\n",
       "      <td>08:34:34</td>\n",
       "      <td>Monday</td>\n",
       "    </tr>\n",
       "    <tr>\n",
       "      <th>5</th>\n",
       "      <td>842029A1</td>\n",
       "      <td>Преданная</td>\n",
       "      <td>IMPERVTOR</td>\n",
       "      <td>rusrap</td>\n",
       "      <td>Saint-Petersburg</td>\n",
       "      <td>13:09:41</td>\n",
       "      <td>Friday</td>\n",
       "    </tr>\n",
       "    <tr>\n",
       "      <th>6</th>\n",
       "      <td>4CB90AA5</td>\n",
       "      <td>True</td>\n",
       "      <td>Roman Messer</td>\n",
       "      <td>dance</td>\n",
       "      <td>Moscow</td>\n",
       "      <td>13:00:07</td>\n",
       "      <td>Wednesday</td>\n",
       "    </tr>\n",
       "    <tr>\n",
       "      <th>7</th>\n",
       "      <td>F03E1C1F</td>\n",
       "      <td>Feeling This Way</td>\n",
       "      <td>Polina Griffith</td>\n",
       "      <td>dance</td>\n",
       "      <td>Moscow</td>\n",
       "      <td>20:47:49</td>\n",
       "      <td>Wednesday</td>\n",
       "    </tr>\n",
       "    <tr>\n",
       "      <th>8</th>\n",
       "      <td>8FA1D3BE</td>\n",
       "      <td>И вновь продолжается бой</td>\n",
       "      <td>NaN</td>\n",
       "      <td>ruspop</td>\n",
       "      <td>Moscow</td>\n",
       "      <td>09:17:40</td>\n",
       "      <td>Friday</td>\n",
       "    </tr>\n",
       "    <tr>\n",
       "      <th>9</th>\n",
       "      <td>E772D5C0</td>\n",
       "      <td>Pessimist</td>\n",
       "      <td>NaN</td>\n",
       "      <td>dance</td>\n",
       "      <td>Saint-Petersburg</td>\n",
       "      <td>21:20:49</td>\n",
       "      <td>Wednesday</td>\n",
       "    </tr>\n",
       "  </tbody>\n",
       "</table>\n",
       "</div>"
      ],
      "text/plain": [
       "     userID                        Track            artist   genre  \\\n",
       "0  FFB692EC            Kamigata To Boots  The Mass Missile    rock   \n",
       "1  55204538  Delayed Because of Accident  Andreas Rönnberg    rock   \n",
       "2    20EC38            Funiculì funiculà       Mario Lanza     pop   \n",
       "3  A3DD03C9        Dragons in the Sunset        Fire + Ice    folk   \n",
       "4  E2DC1FAE                  Soul People        Space Echo   dance   \n",
       "5  842029A1                    Преданная         IMPERVTOR  rusrap   \n",
       "6  4CB90AA5                         True      Roman Messer   dance   \n",
       "7  F03E1C1F             Feeling This Way   Polina Griffith   dance   \n",
       "8  8FA1D3BE     И вновь продолжается бой               NaN  ruspop   \n",
       "9  E772D5C0                    Pessimist               NaN   dance   \n",
       "\n",
       "             City        time        Day  \n",
       "0  Saint-Petersburg  20:28:33  Wednesday  \n",
       "1            Moscow  14:07:09     Friday  \n",
       "2  Saint-Petersburg  20:58:07  Wednesday  \n",
       "3  Saint-Petersburg  08:37:09     Monday  \n",
       "4            Moscow  08:34:34     Monday  \n",
       "5  Saint-Petersburg  13:09:41     Friday  \n",
       "6            Moscow  13:00:07  Wednesday  \n",
       "7            Moscow  20:47:49  Wednesday  \n",
       "8            Moscow  09:17:40     Friday  \n",
       "9  Saint-Petersburg  21:20:49  Wednesday  "
      ]
     },
     "execution_count": 4,
     "metadata": {},
     "output_type": "execute_result"
    }
   ],
   "source": [
    "# получение первых 10 строк таблицы df\n",
    "df.head(10)"
   ]
  },
  {
   "cell_type": "markdown",
   "metadata": {
    "deletable": false,
    "editable": false,
    "id": "EO73Kwic_Zct",
    "tags": [
     "start_task"
    ]
   },
   "source": [
    "**Задание 4**"
   ]
  },
  {
   "cell_type": "code",
   "execution_count": 5,
   "metadata": {
    "deletable": false,
    "id": "DSf2kIb-_Zct"
   },
   "outputs": [
    {
     "name": "stdout",
     "output_type": "stream",
     "text": [
      "<class 'pandas.core.frame.DataFrame'>\n",
      "RangeIndex: 65079 entries, 0 to 65078\n",
      "Data columns (total 7 columns):\n",
      " #   Column    Non-Null Count  Dtype \n",
      "---  ------    --------------  ----- \n",
      " 0     userID  65079 non-null  object\n",
      " 1   Track     63848 non-null  object\n",
      " 2   artist    57876 non-null  object\n",
      " 3   genre     63881 non-null  object\n",
      " 4     City    65079 non-null  object\n",
      " 5   time      65079 non-null  object\n",
      " 6   Day       65079 non-null  object\n",
      "dtypes: object(7)\n",
      "memory usage: 3.5+ MB\n"
     ]
    }
   ],
   "source": [
    "# получение общей информации о данных в таблице df\n",
    "df.info()"
   ]
  },
  {
   "cell_type": "markdown",
   "metadata": {
    "deletable": false,
    "editable": false,
    "id": "TaQ2Iwbr_Zct"
   },
   "source": [
    "Количество значений в столбцах различается. Значит, в данных есть пропущенные значения."
   ]
  },
  {
   "cell_type": "markdown",
   "metadata": {
    "deletable": false,
    "editable": false,
    "id": "4P0UCWzswgEm",
    "tags": [
     "start_task"
    ]
   },
   "source": [
    "**Задание 5**"
   ]
  },
  {
   "cell_type": "markdown",
   "metadata": {
    "id": "c137-ZstwgEm",
    "jp-MarkdownHeadingCollapsed": true
   },
   "source": [
    "в названиях колонок видны нарушения стиля:\n",
    "1. строчные буквы сочетаются с прописными\n",
    "2. встречаются пробелы\n",
    "3. названия неоднозначно отражают тип данных в колонках\n",
    "4. используется \"верблюжий\" регистр, а не \"змеиный\""
   ]
  },
  {
   "cell_type": "markdown",
   "metadata": {
    "deletable": false,
    "editable": false,
    "id": "MCB6-dXG_Zct"
   },
   "source": [
    "**Выводы**\n",
    "\n",
    "В каждой строке таблицы — данные о прослушанном треке. Часть колонок описывает саму композицию: название, исполнителя и жанр. Остальные данные рассказывают о пользователе: из какого он города, когда он слушал музыку.\n",
    "\n",
    "Предварительно можно утверждать, что данных достаточно для проверки гипотез. Но встречаются пропуски в данных, а в названиях колонок — расхождения с хорошим стилем.\n",
    "\n",
    "Чтобы двигаться дальше, нужно устранить проблемы в данных."
   ]
  },
  {
   "cell_type": "markdown",
   "metadata": {
    "deletable": false,
    "editable": false,
    "id": "SjYF6Ub9_Zct"
   },
   "source": [
    "## Предобработка данных"
   ]
  },
  {
   "cell_type": "markdown",
   "metadata": {
    "deletable": false,
    "editable": false,
    "id": "dIaKXr29_Zct",
    "tags": [
     "start_task"
    ]
   },
   "source": [
    "### Переименование столбцов\n",
    "\n",
    "**Задание 6**"
   ]
  },
  {
   "cell_type": "code",
   "execution_count": 7,
   "metadata": {
    "deletable": false,
    "id": "oKOTdF_Q_Zct"
   },
   "outputs": [
    {
     "data": {
      "text/plain": [
       "Index(['  userID', 'Track', 'artist', 'genre', '  City  ', 'time', 'Day'], dtype='object')"
      ]
     },
     "execution_count": 7,
     "metadata": {},
     "output_type": "execute_result"
    }
   ],
   "source": [
    "# перечень названий столбцов таблицы df\n",
    "df.columns"
   ]
  },
  {
   "cell_type": "markdown",
   "metadata": {
    "deletable": false,
    "editable": false,
    "id": "zj5534cv_Zct",
    "tags": [
     "start_task"
    ]
   },
   "source": [
    "**Задание 7**"
   ]
  },
  {
   "cell_type": "code",
   "execution_count": 8,
   "metadata": {
    "deletable": false,
    "id": "ISlFqs5y_Zct"
   },
   "outputs": [],
   "source": [
    "# переименование столбцов\n",
    "df = df.rename(columns={'  userID':'user_id',\n",
    "           'Track':'track',\n",
    "           '  City  ':'city',\n",
    "           'Day':'day'\n",
    "          })"
   ]
  },
  {
   "cell_type": "markdown",
   "metadata": {
    "deletable": false,
    "editable": false,
    "id": "1dqbh00J_Zct",
    "tags": [
     "start_task"
    ]
   },
   "source": [
    "**Задание 8**"
   ]
  },
  {
   "cell_type": "code",
   "execution_count": 9,
   "metadata": {
    "deletable": false,
    "id": "d4NOAmTW_Zct"
   },
   "outputs": [
    {
     "data": {
      "text/plain": [
       "Index(['user_id', 'track', 'artist', 'genre', 'city', 'time', 'day'], dtype='object')"
      ]
     },
     "execution_count": 9,
     "metadata": {},
     "output_type": "execute_result"
    }
   ],
   "source": [
    "# проверка результатов - перечень названий столбцов\n",
    "df.columns"
   ]
  },
  {
   "cell_type": "markdown",
   "metadata": {
    "deletable": false,
    "editable": false,
    "id": "5ISfbcfY_Zct",
    "tags": [
     "start_task"
    ]
   },
   "source": [
    "### Обработка пропущенных значений\n",
    "\n",
    "**Задание 9**"
   ]
  },
  {
   "cell_type": "code",
   "execution_count": 10,
   "metadata": {
    "deletable": false,
    "id": "RskX29qr_Zct"
   },
   "outputs": [
    {
     "data": {
      "text/plain": [
       "user_id       0\n",
       "track      1231\n",
       "artist     7203\n",
       "genre      1198\n",
       "city          0\n",
       "time          0\n",
       "day           0\n",
       "dtype: int64"
      ]
     },
     "execution_count": 10,
     "metadata": {},
     "output_type": "execute_result"
    }
   ],
   "source": [
    "# подсчёт пропусков\n",
    "df.isna().sum()"
   ]
  },
  {
   "cell_type": "markdown",
   "metadata": {
    "deletable": false,
    "editable": false,
    "id": "fSv2laPA_Zct",
    "tags": [
     "start_task"
    ]
   },
   "source": [
    "**Задание 10**"
   ]
  },
  {
   "cell_type": "code",
   "execution_count": 11,
   "metadata": {
    "deletable": false,
    "id": "KplB5qWs_Zct"
   },
   "outputs": [],
   "source": [
    "# замена пропущенных значений на 'unknown'\n",
    "columns_to_replace = ['artist', 'track', 'genre']\n",
    "for column_name in columns_to_replace:\n",
    "    df[column_name] = df[column_name].fillna('unknown')"
   ]
  },
  {
   "cell_type": "markdown",
   "metadata": {
    "deletable": false,
    "editable": false,
    "id": "Ilsm-MZo_Zct",
    "tags": [
     "start_task"
    ]
   },
   "source": [
    "**Задание 11**"
   ]
  },
  {
   "cell_type": "code",
   "execution_count": 12,
   "metadata": {
    "deletable": false,
    "id": "Tq4nYRX4_Zct"
   },
   "outputs": [
    {
     "data": {
      "text/plain": [
       "user_id    0\n",
       "track      0\n",
       "artist     0\n",
       "genre      0\n",
       "city       0\n",
       "time       0\n",
       "day        0\n",
       "dtype: int64"
      ]
     },
     "execution_count": 12,
     "metadata": {},
     "output_type": "execute_result"
    }
   ],
   "source": [
    "# проверка на отсутствие пропусков\n",
    "df.isna().sum()"
   ]
  },
  {
   "cell_type": "markdown",
   "metadata": {
    "deletable": false,
    "editable": false,
    "id": "BWKRtBJ3_Zct",
    "tags": [
     "start_task"
    ]
   },
   "source": [
    "### Обработка дубликатов\n",
    "\n",
    "**Задание 12**"
   ]
  },
  {
   "cell_type": "code",
   "execution_count": 13,
   "metadata": {
    "deletable": false,
    "id": "36eES_S0_Zct"
   },
   "outputs": [
    {
     "data": {
      "text/plain": [
       "3826"
      ]
     },
     "execution_count": 13,
     "metadata": {},
     "output_type": "execute_result"
    }
   ],
   "source": [
    "# подсчёт явных дубликатов\n",
    "df.duplicated().sum()"
   ]
  },
  {
   "cell_type": "markdown",
   "metadata": {
    "deletable": false,
    "editable": false,
    "id": "Ot25h6XR_Zct",
    "tags": [
     "start_task"
    ]
   },
   "source": [
    "**Задание 13**"
   ]
  },
  {
   "cell_type": "code",
   "execution_count": 14,
   "metadata": {
    "deletable": false,
    "id": "exFHq6tt_Zct"
   },
   "outputs": [],
   "source": [
    "# удаление явных дубликатов, создание новых индексов и удаление старых\n",
    "df = df.drop_duplicates().reset_index(drop=True)"
   ]
  },
  {
   "cell_type": "markdown",
   "metadata": {
    "deletable": false,
    "editable": false,
    "id": "Im2YwBEG_Zct",
    "tags": [
     "start_task"
    ]
   },
   "source": [
    "**Задание 14**"
   ]
  },
  {
   "cell_type": "code",
   "execution_count": 15,
   "metadata": {
    "deletable": false,
    "id": "-8PuNWQ0_Zct"
   },
   "outputs": [
    {
     "data": {
      "text/plain": [
       "0"
      ]
     },
     "execution_count": 15,
     "metadata": {},
     "output_type": "execute_result"
    }
   ],
   "source": [
    "# проверка на отсутствие явных дубликатов\n",
    "df.duplicated().sum()"
   ]
  },
  {
   "cell_type": "markdown",
   "metadata": {
    "deletable": false,
    "editable": false,
    "id": "eSjWwsOh_Zct",
    "tags": [
     "start_task"
    ]
   },
   "source": [
    "**Задание 15**"
   ]
  },
  {
   "cell_type": "code",
   "execution_count": 16,
   "metadata": {
    "deletable": false,
    "id": "JIUcqzZN_Zct"
   },
   "outputs": [
    {
     "data": {
      "text/plain": [
       "array(['acid', 'acoustic', 'action', 'adult', 'africa', 'afrikaans',\n",
       "       'alternative', 'alternativepunk', 'ambient', 'americana',\n",
       "       'animated', 'anime', 'arabesk', 'arabic', 'arena',\n",
       "       'argentinetango', 'art', 'audiobook', 'author', 'avantgarde',\n",
       "       'axé', 'baile', 'balkan', 'beats', 'bigroom', 'black', 'bluegrass',\n",
       "       'blues', 'bollywood', 'bossa', 'brazilian', 'breakbeat', 'breaks',\n",
       "       'broadway', 'cantautori', 'cantopop', 'canzone', 'caribbean',\n",
       "       'caucasian', 'celtic', 'chamber', 'chanson', 'children', 'chill',\n",
       "       'chinese', 'choral', 'christian', 'christmas', 'classical',\n",
       "       'classicmetal', 'club', 'colombian', 'comedy', 'conjazz',\n",
       "       'contemporary', 'country', 'cuban', 'dance', 'dancehall',\n",
       "       'dancepop', 'dark', 'death', 'deep', 'deutschrock', 'deutschspr',\n",
       "       'dirty', 'disco', 'dnb', 'documentary', 'downbeat', 'downtempo',\n",
       "       'drum', 'dub', 'dubstep', 'eastern', 'easy', 'electronic',\n",
       "       'electropop', 'emo', 'entehno', 'epicmetal', 'estrada', 'ethnic',\n",
       "       'eurofolk', 'european', 'experimental', 'extrememetal', 'fado',\n",
       "       'fairytail', 'film', 'fitness', 'flamenco', 'folk', 'folklore',\n",
       "       'folkmetal', 'folkrock', 'folktronica', 'forró', 'frankreich',\n",
       "       'französisch', 'french', 'funk', 'future', 'gangsta', 'garage',\n",
       "       'german', 'ghazal', 'gitarre', 'glitch', 'gospel', 'gothic',\n",
       "       'grime', 'grunge', 'gypsy', 'handsup', \"hard'n'heavy\", 'hardcore',\n",
       "       'hardstyle', 'hardtechno', 'hip', 'hip-hop', 'hiphop',\n",
       "       'historisch', 'holiday', 'hop', 'horror', 'house', 'hymn', 'idm',\n",
       "       'independent', 'indian', 'indie', 'indipop', 'industrial',\n",
       "       'inspirational', 'instrumental', 'international', 'irish', 'jam',\n",
       "       'japanese', 'jazz', 'jewish', 'jpop', 'jungle', 'k-pop',\n",
       "       'karadeniz', 'karaoke', 'kayokyoku', 'korean', 'laiko', 'latin',\n",
       "       'latino', 'leftfield', 'local', 'lounge', 'loungeelectronic',\n",
       "       'lovers', 'malaysian', 'mandopop', 'marschmusik', 'meditative',\n",
       "       'mediterranean', 'melodic', 'metal', 'metalcore', 'mexican',\n",
       "       'middle', 'minimal', 'miscellaneous', 'modern', 'mood', 'mpb',\n",
       "       'muslim', 'native', 'neoklassik', 'neue', 'new', 'newage',\n",
       "       'newwave', 'nu', 'nujazz', 'numetal', 'oceania', 'old', 'opera',\n",
       "       'orchestral', 'other', 'piano', 'podcasts', 'pop', 'popdance',\n",
       "       'popelectronic', 'popeurodance', 'poprussian', 'post',\n",
       "       'posthardcore', 'postrock', 'power', 'progmetal', 'progressive',\n",
       "       'psychedelic', 'punjabi', 'punk', 'quebecois', 'ragga', 'ram',\n",
       "       'rancheras', 'rap', 'rave', 'reggae', 'reggaeton', 'regional',\n",
       "       'relax', 'religious', 'retro', 'rhythm', 'rnb', 'rnr', 'rock',\n",
       "       'rockabilly', 'rockalternative', 'rockindie', 'rockother',\n",
       "       'romance', 'roots', 'ruspop', 'rusrap', 'rusrock', 'russian',\n",
       "       'salsa', 'samba', 'scenic', 'schlager', 'self', 'sertanejo',\n",
       "       'shanson', 'shoegazing', 'showtunes', 'singer', 'ska', 'skarock',\n",
       "       'slow', 'smooth', 'soft', 'soul', 'soulful', 'sound', 'soundtrack',\n",
       "       'southern', 'specialty', 'speech', 'spiritual', 'sport',\n",
       "       'stonerrock', 'surf', 'swing', 'synthpop', 'synthrock',\n",
       "       'sängerportrait', 'tango', 'tanzorchester', 'taraftar', 'tatar',\n",
       "       'tech', 'techno', 'teen', 'thrash', 'top', 'traditional',\n",
       "       'tradjazz', 'trance', 'tribal', 'trip', 'triphop', 'tropical',\n",
       "       'türk', 'türkçe', 'ukrrock', 'unknown', 'urban', 'uzbek',\n",
       "       'variété', 'vi', 'videogame', 'vocal', 'western', 'world',\n",
       "       'worldbeat', 'ïîï', 'электроника'], dtype=object)"
      ]
     },
     "execution_count": 16,
     "metadata": {},
     "output_type": "execute_result"
    }
   ],
   "source": [
    "# просмотр уникальных отсортированных названий жанров\n",
    "sorted_genres = df['genre'].sort_values()\n",
    "sorted_genres = sorted_genres.unique()\n",
    "sorted_genres"
   ]
  },
  {
   "cell_type": "markdown",
   "metadata": {
    "deletable": false,
    "editable": false,
    "id": "qej-Qmuo_Zct",
    "tags": [
     "start_task"
    ]
   },
   "source": [
    "**Задание 16**"
   ]
  },
  {
   "cell_type": "code",
   "execution_count": 17,
   "metadata": {
    "deletable": false,
    "id": "ErNDkmns_Zct"
   },
   "outputs": [],
   "source": [
    "# устранение неявных дубликатов\n",
    "namelist_to_replace = ['hip','hop','hip-hop']\n",
    "df['genre'] = df['genre'].replace(namelist_to_replace, 'hiphop')"
   ]
  },
  {
   "cell_type": "markdown",
   "metadata": {
    "deletable": false,
    "editable": false,
    "id": "zQKF16_RG15m",
    "tags": [
     "start_task"
    ]
   },
   "source": [
    "**Задание 17**"
   ]
  },
  {
   "cell_type": "code",
   "execution_count": 18,
   "metadata": {
    "deletable": false,
    "id": "wvixALnFG15m"
   },
   "outputs": [
    {
     "data": {
      "text/plain": [
       "array(['acid', 'acoustic', 'action', 'adult', 'africa', 'afrikaans',\n",
       "       'alternative', 'alternativepunk', 'ambient', 'americana',\n",
       "       'animated', 'anime', 'arabesk', 'arabic', 'arena',\n",
       "       'argentinetango', 'art', 'audiobook', 'author', 'avantgarde',\n",
       "       'axé', 'baile', 'balkan', 'beats', 'bigroom', 'black', 'bluegrass',\n",
       "       'blues', 'bollywood', 'bossa', 'brazilian', 'breakbeat', 'breaks',\n",
       "       'broadway', 'cantautori', 'cantopop', 'canzone', 'caribbean',\n",
       "       'caucasian', 'celtic', 'chamber', 'chanson', 'children', 'chill',\n",
       "       'chinese', 'choral', 'christian', 'christmas', 'classical',\n",
       "       'classicmetal', 'club', 'colombian', 'comedy', 'conjazz',\n",
       "       'contemporary', 'country', 'cuban', 'dance', 'dancehall',\n",
       "       'dancepop', 'dark', 'death', 'deep', 'deutschrock', 'deutschspr',\n",
       "       'dirty', 'disco', 'dnb', 'documentary', 'downbeat', 'downtempo',\n",
       "       'drum', 'dub', 'dubstep', 'eastern', 'easy', 'electronic',\n",
       "       'electropop', 'emo', 'entehno', 'epicmetal', 'estrada', 'ethnic',\n",
       "       'eurofolk', 'european', 'experimental', 'extrememetal', 'fado',\n",
       "       'fairytail', 'film', 'fitness', 'flamenco', 'folk', 'folklore',\n",
       "       'folkmetal', 'folkrock', 'folktronica', 'forró', 'frankreich',\n",
       "       'französisch', 'french', 'funk', 'future', 'gangsta', 'garage',\n",
       "       'german', 'ghazal', 'gitarre', 'glitch', 'gospel', 'gothic',\n",
       "       'grime', 'grunge', 'gypsy', 'handsup', \"hard'n'heavy\", 'hardcore',\n",
       "       'hardstyle', 'hardtechno', 'hiphop', 'historisch', 'holiday',\n",
       "       'horror', 'house', 'hymn', 'idm', 'independent', 'indian', 'indie',\n",
       "       'indipop', 'industrial', 'inspirational', 'instrumental',\n",
       "       'international', 'irish', 'jam', 'japanese', 'jazz', 'jewish',\n",
       "       'jpop', 'jungle', 'k-pop', 'karadeniz', 'karaoke', 'kayokyoku',\n",
       "       'korean', 'laiko', 'latin', 'latino', 'leftfield', 'local',\n",
       "       'lounge', 'loungeelectronic', 'lovers', 'malaysian', 'mandopop',\n",
       "       'marschmusik', 'meditative', 'mediterranean', 'melodic', 'metal',\n",
       "       'metalcore', 'mexican', 'middle', 'minimal', 'miscellaneous',\n",
       "       'modern', 'mood', 'mpb', 'muslim', 'native', 'neoklassik', 'neue',\n",
       "       'new', 'newage', 'newwave', 'nu', 'nujazz', 'numetal', 'oceania',\n",
       "       'old', 'opera', 'orchestral', 'other', 'piano', 'podcasts', 'pop',\n",
       "       'popdance', 'popelectronic', 'popeurodance', 'poprussian', 'post',\n",
       "       'posthardcore', 'postrock', 'power', 'progmetal', 'progressive',\n",
       "       'psychedelic', 'punjabi', 'punk', 'quebecois', 'ragga', 'ram',\n",
       "       'rancheras', 'rap', 'rave', 'reggae', 'reggaeton', 'regional',\n",
       "       'relax', 'religious', 'retro', 'rhythm', 'rnb', 'rnr', 'rock',\n",
       "       'rockabilly', 'rockalternative', 'rockindie', 'rockother',\n",
       "       'romance', 'roots', 'ruspop', 'rusrap', 'rusrock', 'russian',\n",
       "       'salsa', 'samba', 'scenic', 'schlager', 'self', 'sertanejo',\n",
       "       'shanson', 'shoegazing', 'showtunes', 'singer', 'ska', 'skarock',\n",
       "       'slow', 'smooth', 'soft', 'soul', 'soulful', 'sound', 'soundtrack',\n",
       "       'southern', 'specialty', 'speech', 'spiritual', 'sport',\n",
       "       'stonerrock', 'surf', 'swing', 'synthpop', 'synthrock',\n",
       "       'sängerportrait', 'tango', 'tanzorchester', 'taraftar', 'tatar',\n",
       "       'tech', 'techno', 'teen', 'thrash', 'top', 'traditional',\n",
       "       'tradjazz', 'trance', 'tribal', 'trip', 'triphop', 'tropical',\n",
       "       'türk', 'türkçe', 'ukrrock', 'unknown', 'urban', 'uzbek',\n",
       "       'variété', 'vi', 'videogame', 'vocal', 'western', 'world',\n",
       "       'worldbeat', 'ïîï', 'электроника'], dtype=object)"
      ]
     },
     "execution_count": 18,
     "metadata": {},
     "output_type": "execute_result"
    }
   ],
   "source": [
    "# проверка на отсутствие неявных дубликатов\n",
    "sorted_genres = df['genre'].sort_values()\n",
    "sorted_genres = sorted_genres.unique()\n",
    "sorted_genres"
   ]
  },
  {
   "cell_type": "markdown",
   "metadata": {
    "deletable": false,
    "editable": false,
    "id": "jz6a9-7HQUDd"
   },
   "source": [
    "**Выводы**\n",
    "\n",
    "Предобработка обнаружила три проблемы в данных:\n",
    "\n",
    "- нарушения в стиле заголовков,\n",
    "- пропущенные значения,\n",
    "- дубликаты — явные и неявные.\n",
    "\n",
    "Вы исправили заголовки, чтобы упростить работу с таблицей. Без дубликатов исследование станет более точным.\n",
    "\n",
    "Пропущенные значения вы заменили на `'unknown'`. Ещё предстоит увидеть, не повредят ли исследованию пропуски в колонке `genre`.\n",
    "\n",
    "Теперь можно перейти к проверке гипотез."
   ]
  },
  {
   "cell_type": "markdown",
   "metadata": {
    "deletable": false,
    "editable": false,
    "id": "WttZHXH0SqKk"
   },
   "source": [
    "## Проверка гипотез"
   ]
  },
  {
   "cell_type": "markdown",
   "metadata": {
    "deletable": false,
    "editable": false,
    "id": "Im936VVi_Zcu"
   },
   "source": [
    "### Сравнение поведения пользователей двух столиц"
   ]
  },
  {
   "cell_type": "markdown",
   "metadata": {
    "deletable": false,
    "editable": false,
    "id": "nwt_MuaL_Zcu"
   },
   "source": [
    "Первая гипотеза утверждает, что пользователи по-разному слушают музыку в Москве и Санкт-Петербурге. Проверим это предположение по данным о трёх днях недели — понедельнике, среде и пятнице. Для этого:\n",
    "\n",
    "* Разделим пользователей Москвы и Санкт-Петербурга.\n",
    "* Сравним, сколько треков послушала каждая группа пользователей в понедельник, среду и пятницу.\n"
   ]
  },
  {
   "cell_type": "markdown",
   "metadata": {
    "deletable": false,
    "id": "8Dw_YMmT_Zcu",
    "tags": [
     "start_task"
    ]
   },
   "source": [
    "**Задание 18**\n",
    "\n"
   ]
  },
  {
   "cell_type": "code",
   "execution_count": 19,
   "metadata": {
    "deletable": false,
    "id": "0_Qs96oh_Zcu"
   },
   "outputs": [
    {
     "data": {
      "text/plain": [
       "city\n",
       "Moscow              42741\n",
       "Saint-Petersburg    18512\n",
       "Name: genre, dtype: int64"
      ]
     },
     "execution_count": 19,
     "metadata": {},
     "output_type": "execute_result"
    }
   ],
   "source": [
    "# подсчёт прослушиваний в каждом городе\n",
    "grouped_cities_df = df.groupby('city').count()\n",
    "grouped_cities_df['genre']"
   ]
  },
  {
   "cell_type": "markdown",
   "metadata": {
    "id": "dzli3w8o_Zcu",
    "tags": [
     "start_task"
    ]
   },
   "source": [
    "**Задание 19**\n"
   ]
  },
  {
   "cell_type": "code",
   "execution_count": 20,
   "metadata": {
    "deletable": false,
    "id": "uZMKjiJz_Zcu"
   },
   "outputs": [
    {
     "data": {
      "text/plain": [
       "city\n",
       "Moscow              42741\n",
       "Saint-Petersburg    18512\n",
       "Name: genre, dtype: int64"
      ]
     },
     "execution_count": 20,
     "metadata": {},
     "output_type": "execute_result"
    }
   ],
   "source": [
    "# подсчёт прослушиваний в каждый из трёх дней\n",
    "grouped_days_df = df.groupby(['city']).count()\n",
    "grouped_days_df['genre']"
   ]
  },
  {
   "cell_type": "markdown",
   "metadata": {
    "deletable": false,
    "editable": false,
    "id": "POzs8bGa_Zcu",
    "tags": [
     "start_task"
    ]
   },
   "source": [
    "**Задание 20**"
   ]
  },
  {
   "cell_type": "code",
   "execution_count": 21,
   "metadata": {
    "deletable": false,
    "id": "Nz3GdQB1_Zcu"
   },
   "outputs": [],
   "source": [
    "def number_tracks(day, city):\n",
    "    track_list = df.loc[df['day'] == day] # выберите только строки df со значением переменной day в столбце day\n",
    "    track_list = track_list.loc[track_list['city'] == city] # выберите только строки track_list со значением переменной city в столбце city\n",
    "    track_list_count = track_list['user_id'].count() # вызовите метод подсчета строк для track_list и выберите столбец user_id\n",
    "    return track_list_count # верните значение track_list_count из функции"
   ]
  },
  {
   "cell_type": "markdown",
   "metadata": {
    "deletable": false,
    "editable": false,
    "id": "ytf7xFrFJQ2r",
    "tags": [
     "start_task"
    ]
   },
   "source": [
    "**Задание 21**"
   ]
  },
  {
   "cell_type": "code",
   "execution_count": 22,
   "metadata": {
    "deletable": false,
    "id": "rJcRATNQ_Zcu"
   },
   "outputs": [
    {
     "data": {
      "text/plain": [
       "15740"
      ]
     },
     "execution_count": 22,
     "metadata": {},
     "output_type": "execute_result"
    }
   ],
   "source": [
    "# количество прослушиваний в Москве по понедельникам\n",
    "number_tracks('Monday', 'Moscow')"
   ]
  },
  {
   "cell_type": "code",
   "execution_count": 23,
   "metadata": {
    "deletable": false,
    "id": "hq_ncZ5T_Zcu"
   },
   "outputs": [
    {
     "data": {
      "text/plain": [
       "5614"
      ]
     },
     "execution_count": 23,
     "metadata": {},
     "output_type": "execute_result"
    }
   ],
   "source": [
    "# количество прослушиваний в Санкт-Петербурге по понедельникам\n",
    "number_tracks('Monday', 'Saint-Petersburg')"
   ]
  },
  {
   "cell_type": "code",
   "execution_count": 24,
   "metadata": {
    "deletable": false,
    "id": "_NTy2VPU_Zcu"
   },
   "outputs": [
    {
     "data": {
      "text/plain": [
       "11056"
      ]
     },
     "execution_count": 24,
     "metadata": {},
     "output_type": "execute_result"
    }
   ],
   "source": [
    "# количество прослушиваний в Москве по средам\n",
    "number_tracks('Wednesday', 'Moscow')"
   ]
  },
  {
   "cell_type": "code",
   "execution_count": 25,
   "metadata": {
    "deletable": false,
    "id": "j2y3TAwo_Zcu"
   },
   "outputs": [
    {
     "data": {
      "text/plain": [
       "7003"
      ]
     },
     "execution_count": 25,
     "metadata": {},
     "output_type": "execute_result"
    }
   ],
   "source": [
    "# количество прослушиваний в Санкт-Петербурге по средам\n",
    "number_tracks('Wednesday', 'Saint-Petersburg')"
   ]
  },
  {
   "cell_type": "code",
   "execution_count": 26,
   "metadata": {
    "deletable": false,
    "id": "vYDw5u_K_Zcu"
   },
   "outputs": [
    {
     "data": {
      "text/plain": [
       "15945"
      ]
     },
     "execution_count": 26,
     "metadata": {},
     "output_type": "execute_result"
    }
   ],
   "source": [
    "# количество прослушиваний в Москве по пятницам\n",
    "number_tracks('Friday', 'Moscow')"
   ]
  },
  {
   "cell_type": "code",
   "execution_count": 27,
   "metadata": {
    "deletable": false,
    "id": "8_yzFtW3_Zcu"
   },
   "outputs": [
    {
     "data": {
      "text/plain": [
       "5895"
      ]
     },
     "execution_count": 27,
     "metadata": {},
     "output_type": "execute_result"
    }
   ],
   "source": [
    "# количество прослушиваний в Санкт-Петербурге по пятницам\n",
    "number_tracks('Friday', 'Saint-Petersburg')"
   ]
  },
  {
   "cell_type": "markdown",
   "metadata": {
    "deletable": false,
    "editable": false,
    "id": "7QXffbO-_Zcu",
    "tags": [
     "start_task"
    ]
   },
   "source": [
    "**Задание 22**"
   ]
  },
  {
   "cell_type": "code",
   "execution_count": 30,
   "metadata": {
    "deletable": false,
    "id": "APAcLpOr_Zcu"
   },
   "outputs": [
    {
     "data": {
      "text/html": [
       "<div>\n",
       "<style scoped>\n",
       "    .dataframe tbody tr th:only-of-type {\n",
       "        vertical-align: middle;\n",
       "    }\n",
       "\n",
       "    .dataframe tbody tr th {\n",
       "        vertical-align: top;\n",
       "    }\n",
       "\n",
       "    .dataframe thead th {\n",
       "        text-align: right;\n",
       "    }\n",
       "</style>\n",
       "<table border=\"1\" class=\"dataframe\">\n",
       "  <thead>\n",
       "    <tr style=\"text-align: right;\">\n",
       "      <th></th>\n",
       "      <th>city</th>\n",
       "      <th>monday</th>\n",
       "      <th>wednesday</th>\n",
       "      <th>friday</th>\n",
       "    </tr>\n",
       "  </thead>\n",
       "  <tbody>\n",
       "    <tr>\n",
       "      <th>0</th>\n",
       "      <td>Moscow</td>\n",
       "      <td>15945</td>\n",
       "      <td>11056</td>\n",
       "      <td>15740</td>\n",
       "    </tr>\n",
       "    <tr>\n",
       "      <th>1</th>\n",
       "      <td>Saint-Petersburg</td>\n",
       "      <td>5895</td>\n",
       "      <td>7003</td>\n",
       "      <td>5614</td>\n",
       "    </tr>\n",
       "  </tbody>\n",
       "</table>\n",
       "</div>"
      ],
      "text/plain": [
       "               city  monday  wednesday  friday\n",
       "0            Moscow   15945      11056   15740\n",
       "1  Saint-Petersburg    5895       7003    5614"
      ]
     },
     "execution_count": 30,
     "metadata": {},
     "output_type": "execute_result"
    }
   ],
   "source": [
    "# создание таблицы с результатами\n",
    "city_list = ['Moscow','Saint-Petersburg']\n",
    "week_days = ['Friday', 'Wednesday', 'Monday']\n",
    "number_tracks_list = []\n",
    "\n",
    "for city in city_list:\n",
    "    row = [city]\n",
    "    for day in week_days:\n",
    "         row.append(number_tracks(day, city))\n",
    "    number_tracks_list.append(row)\n",
    "\n",
    "column_names = ['city', 'monday', 'wednesday', 'friday']\n",
    "\n",
    "info = pd.DataFrame(data=number_tracks_list,columns=column_names)\n",
    "# вывод таблицы на экран\n",
    "info"
   ]
  },
  {
   "cell_type": "markdown",
   "metadata": {
    "deletable": false,
    "editable": false,
    "id": "-EgPIHYu_Zcu"
   },
   "source": [
    "**Выводы**\n",
    "\n",
    "Данные показывают разницу поведения пользователей:\n",
    "\n",
    "- В Москве пик прослушиваний приходится на понедельник и пятницу, а в среду заметен спад.\n",
    "- В Петербурге, наоборот, больше слушают музыку по средам. Активность в понедельник и пятницу здесь почти в равной мере уступает среде.\n",
    "\n",
    "Значит, данные говорят в пользу первой гипотезы."
   ]
  },
  {
   "cell_type": "markdown",
   "metadata": {
    "deletable": false,
    "editable": false,
    "id": "atZAxtq4_Zcu"
   },
   "source": [
    "### Музыка в начале и в конце недели"
   ]
  },
  {
   "cell_type": "markdown",
   "metadata": {
    "deletable": false,
    "editable": false,
    "id": "eXrQqXFH_Zcu"
   },
   "source": [
    "Согласно второй гипотезе, утром в понедельник в Москве преобладают одни жанры, а в Петербурге — другие. Так же и вечером пятницы преобладают разные жанры — в зависимости от города."
   ]
  },
  {
   "cell_type": "markdown",
   "metadata": {
    "deletable": false,
    "editable": false,
    "id": "S8UcW6Hw_Zcu",
    "tags": [
     "start_task"
    ]
   },
   "source": [
    "**Задание 23**"
   ]
  },
  {
   "cell_type": "code",
   "execution_count": 133,
   "metadata": {
    "deletable": false,
    "id": "qeaFfM_P_Zcu"
   },
   "outputs": [],
   "source": [
    "# получение таблицы moscow_general из тех строк таблицы df, для которых значение в столбце 'city' равно 'Moscow'\n",
    "moscow_general = df.loc[df['city'] == 'Moscow']"
   ]
  },
  {
   "cell_type": "code",
   "execution_count": 134,
   "metadata": {
    "deletable": false,
    "id": "ORaVRKto_Zcu"
   },
   "outputs": [],
   "source": [
    "# получение таблицы spb_general из тех строк таблицы df, для которых значение в столбце 'city' равно 'Saint-Petersburg'\n",
    "spb_general = df.loc[df['city'] == 'Saint-Petersburg']"
   ]
  },
  {
   "cell_type": "markdown",
   "metadata": {
    "deletable": false,
    "editable": false,
    "id": "MEJV-CX2_Zcu",
    "tags": [
     "start_task"
    ]
   },
   "source": [
    "**Задание 24**"
   ]
  },
  {
   "cell_type": "code",
   "execution_count": 135,
   "metadata": {
    "deletable": false,
    "id": "laJT9BYl_Zcu"
   },
   "outputs": [],
   "source": [
    "def genre_weekday(df, day, time1, time2):\n",
    "    # последовательная фильтрация\n",
    "    # оставляем в genre_df только те строки df, у которых день равен day\n",
    "    genre_df = df[df['day'] == day] # ваш код здесь\n",
    "    # оставляем в genre_df только те строки genre_df, у которых время меньше time2\n",
    "    genre_df = genre_df[genre_df['time'] < time2] # ваш код здесь\n",
    "    # оставляем в genre_df только те строки genre_df, у которых время больше time1\n",
    "    genre_df = genre_df[genre_df['time'] > time1] # ваш код здесь\n",
    "    # сгруппируем отфильтрованный датафрейм по столбцу с названиями жанров, возьмём столбец genre и посчитаем кол-во строк для каждого жанра методом count()\n",
    "    genre_df_grouped = genre_df.groupby('genre')['genre'].count() # ваш код здесь\n",
    "    # отсортируем результат по убыванию (чтобы в начале Series оказались самые популярные жанры)\n",
    "    genre_df_sorted = genre_df_grouped.sort_values(ascending=False) # ваш код здесь\n",
    "    # вернём Series с 10 самыми популярными жанрами в указанный отрезок времени заданного дня\n",
    "    return genre_df_sorted[:10]"
   ]
  },
  {
   "cell_type": "markdown",
   "metadata": {
    "deletable": false,
    "editable": false,
    "id": "la2s2_PF_Zcu",
    "tags": [
     "start_task"
    ]
   },
   "source": [
    "**Задание 25**"
   ]
  },
  {
   "cell_type": "code",
   "execution_count": 136,
   "metadata": {
    "deletable": false,
    "id": "yz7itPUQ_Zcu"
   },
   "outputs": [
    {
     "data": {
      "text/plain": [
       "genre\n",
       "pop            781\n",
       "dance          549\n",
       "electronic     480\n",
       "rock           474\n",
       "hiphop         286\n",
       "ruspop         186\n",
       "world          181\n",
       "rusrap         175\n",
       "alternative    164\n",
       "unknown        161\n",
       "Name: genre, dtype: int64"
      ]
     },
     "execution_count": 136,
     "metadata": {},
     "output_type": "execute_result"
    }
   ],
   "source": [
    "# вызов функции для утра понедельника в Москве (вместо df — таблица moscow_general)\n",
    "genre_weekday(moscow_general, 'Monday', '07:00', '11:00')"
   ]
  },
  {
   "cell_type": "code",
   "execution_count": 137,
   "metadata": {
    "deletable": false,
    "id": "kwUcHPdy_Zcu"
   },
   "outputs": [
    {
     "data": {
      "text/plain": [
       "genre\n",
       "pop            218\n",
       "dance          182\n",
       "rock           162\n",
       "electronic     147\n",
       "hiphop          80\n",
       "ruspop          64\n",
       "alternative     58\n",
       "rusrap          55\n",
       "jazz            44\n",
       "classical       40\n",
       "Name: genre, dtype: int64"
      ]
     },
     "execution_count": 137,
     "metadata": {},
     "output_type": "execute_result"
    }
   ],
   "source": [
    "# вызов функции для утра понедельника в Петербурге (вместо df — таблица spb_general)\n",
    "genre_weekday(spb_general, 'Monday', '07:00', '11:00')"
   ]
  },
  {
   "cell_type": "code",
   "execution_count": 138,
   "metadata": {
    "deletable": false,
    "id": "EzXVRE1o_Zcu"
   },
   "outputs": [
    {
     "data": {
      "text/plain": [
       "genre\n",
       "pop            713\n",
       "rock           517\n",
       "dance          495\n",
       "electronic     482\n",
       "hiphop         273\n",
       "world          208\n",
       "ruspop         170\n",
       "alternative    163\n",
       "classical      163\n",
       "rusrap         142\n",
       "Name: genre, dtype: int64"
      ]
     },
     "execution_count": 138,
     "metadata": {},
     "output_type": "execute_result"
    }
   ],
   "source": [
    "# вызов функции для вечера пятницы в Москве\n",
    "genre_weekday(moscow_general, 'Friday', '17:00', '23:00')"
   ]
  },
  {
   "cell_type": "code",
   "execution_count": 139,
   "metadata": {
    "deletable": false,
    "id": "JZaEKu5v_Zcu"
   },
   "outputs": [
    {
     "data": {
      "text/plain": [
       "genre\n",
       "pop            256\n",
       "electronic     216\n",
       "rock           216\n",
       "dance          210\n",
       "hiphop          97\n",
       "alternative     63\n",
       "jazz            61\n",
       "classical       60\n",
       "rusrap          59\n",
       "world           54\n",
       "Name: genre, dtype: int64"
      ]
     },
     "execution_count": 139,
     "metadata": {},
     "output_type": "execute_result"
    }
   ],
   "source": [
    "# вызов функции для вечера пятницы в Петербурге\n",
    "genre_weekday(spb_general, 'Friday', '17:00', '23:00')"
   ]
  },
  {
   "cell_type": "markdown",
   "metadata": {
    "deletable": false,
    "editable": false,
    "id": "wrCe4MNX_Zcu"
   },
   "source": [
    "**Выводы**\n",
    "\n",
    "Если сравнить топ-10 жанров в понедельник утром, можно сделать такие выводы:\n",
    "\n",
    "1. В Москве и Петербурге слушают похожую музыку. Единственное различие — в московский рейтинг вошёл жанр “world”, а в петербургский — джаз и классика.\n",
    "\n",
    "2. В Москве пропущенных значений оказалось так много, что значение `'unknown'` заняло десятое место среди самых популярных жанров. Значит, пропущенные значения занимают существенную долю в данных и угрожают достоверности исследования.\n",
    "\n",
    "Вечер пятницы не меняет эту картину. Некоторые жанры поднимаются немного выше, другие спускаются, но в целом топ-10 остаётся тем же самым.\n",
    "\n",
    "Таким образом, вторая гипотеза подтвердилась лишь частично:\n",
    "* Пользователи слушают похожую музыку в начале недели и в конце.\n",
    "* Разница между Москвой и Петербургом не слишком выражена. В Москве чаще слушают русскую популярную музыку, в Петербурге — джаз.\n",
    "\n",
    "Однако пропуски в данных ставят под сомнение этот результат. В Москве их так много, что рейтинг топ-10 мог бы выглядеть иначе, если бы не утерянные  данные о жанрах."
   ]
  },
  {
   "cell_type": "markdown",
   "metadata": {
    "deletable": false,
    "editable": false,
    "id": "JolODAqr_Zcu"
   },
   "source": [
    "### Жанровые предпочтения в Москве и Петербурге\n",
    "\n",
    "Гипотеза: Петербург — столица рэпа, музыку этого жанра там слушают чаще, чем в Москве.  А Москва — город контрастов, в котором, тем не менее, преобладает поп-музыка."
   ]
  },
  {
   "cell_type": "markdown",
   "metadata": {
    "deletable": false,
    "editable": false,
    "id": "DlegSvaT_Zcu",
    "tags": [
     "start_task"
    ]
   },
   "source": [
    "**Задание 26**"
   ]
  },
  {
   "cell_type": "code",
   "execution_count": 140,
   "metadata": {
    "deletable": false,
    "id": "r19lIPke_Zcu"
   },
   "outputs": [],
   "source": [
    "# одной строкой: группировка таблицы moscow_general по столбцу 'genre', выбор столбца `genre`, подсчёт числа значений 'genre' методом count(), сохранение в moscow_genres\n",
    "moscow_genres = moscow_general.groupby('genre')['genre'].count()\n",
    "# сортировка получившегося Series в порядке убывания и сохранение обратно в moscow_genres\n",
    "moscow_genres = moscow_genres.sort_values(ascending=False)"
   ]
  },
  {
   "cell_type": "markdown",
   "metadata": {
    "deletable": false,
    "editable": false,
    "id": "6kMuomxTiIr8",
    "tags": [
     "start_task"
    ]
   },
   "source": [
    "**Задание 27**"
   ]
  },
  {
   "cell_type": "code",
   "execution_count": 141,
   "metadata": {
    "deletable": false,
    "id": "WhCSooF8_Zcv"
   },
   "outputs": [
    {
     "data": {
      "text/plain": [
       "genre\n",
       "pop            5892\n",
       "dance          4435\n",
       "rock           3965\n",
       "electronic     3786\n",
       "hiphop         2096\n",
       "classical      1616\n",
       "world          1432\n",
       "alternative    1379\n",
       "ruspop         1372\n",
       "rusrap         1161\n",
       "Name: genre, dtype: int64"
      ]
     },
     "execution_count": 141,
     "metadata": {},
     "output_type": "execute_result"
    }
   ],
   "source": [
    "# просмотр первых 10 строк moscow_genres\n",
    "moscow_genres[:10]"
   ]
  },
  {
   "cell_type": "markdown",
   "metadata": {
    "deletable": false,
    "editable": false,
    "id": "cnPG2vnN_Zcv",
    "tags": [
     "start_task"
    ]
   },
   "source": [
    "**Задание 28**"
   ]
  },
  {
   "cell_type": "code",
   "execution_count": 143,
   "metadata": {
    "deletable": false,
    "id": "gluLIpE7_Zcv"
   },
   "outputs": [],
   "source": [
    "# одной строкой: группировка таблицы spb_general по столбцу 'genre', выбор столбца `genre`, подсчёт числа значений 'genre' методом count(), сохранение в spb_genres\n",
    "spb_genres = spb_general.groupby('genre')['genre'].count()\n",
    "# сортировка получившегося Series в порядке убывания и сохранение обратно в spb_genres\n",
    "spb_genres = spb_genres.sort_values(ascending=False)"
   ]
  },
  {
   "cell_type": "markdown",
   "metadata": {
    "deletable": false,
    "editable": false,
    "id": "5Doha_ODgyQ8",
    "tags": [
     "start_task"
    ]
   },
   "source": [
    "**Задание 29**"
   ]
  },
  {
   "cell_type": "code",
   "execution_count": 144,
   "metadata": {
    "deletable": false,
    "id": "uaGJHjVU_Zcv"
   },
   "outputs": [
    {
     "data": {
      "text/plain": [
       "genre\n",
       "pop            2431\n",
       "dance          1932\n",
       "rock           1879\n",
       "electronic     1736\n",
       "hiphop          960\n",
       "alternative     649\n",
       "classical       646\n",
       "rusrap          564\n",
       "ruspop          538\n",
       "world           515\n",
       "Name: genre, dtype: int64"
      ]
     },
     "execution_count": 144,
     "metadata": {},
     "output_type": "execute_result"
    }
   ],
   "source": [
    "# просмотр первых 10 строк spb_genres\n",
    "spb_genres[:10]"
   ]
  },
  {
   "cell_type": "markdown",
   "metadata": {
    "deletable": false,
    "editable": false,
    "id": "RY51YJYu_Zcv"
   },
   "source": [
    "**Выводы**"
   ]
  },
  {
   "cell_type": "markdown",
   "metadata": {
    "deletable": false,
    "editable": false,
    "id": "nVhnJEm__Zcv"
   },
   "source": [
    "Гипотеза частично подтвердилась:\n",
    "* Поп-музыка — самый популярный жанр в Москве, как и предполагала гипотеза. Более того, в топ-10 жанров встречается близкий жанр — русская популярная музыка.\n",
    "* Вопреки ожиданиям, рэп одинаково популярен в Москве и Петербурге.\n"
   ]
  },
  {
   "cell_type": "markdown",
   "metadata": {
    "deletable": false,
    "editable": false,
    "id": "ykKQ0N65_Zcv"
   },
   "source": [
    "## Итоги исследования"
   ]
  },
  {
   "cell_type": "markdown",
   "metadata": {
    "deletable": false,
    "editable": false,
    "id": "tjUwbHb3_Zcv"
   },
   "source": [
    "Вы проверили три гипотезы и установили:\n",
    "\n",
    "1. День недели по-разному влияет на активность пользователей в Москве и Петербурге.\n",
    "\n",
    "Первая гипотеза полностью подтвердилась.\n",
    "\n",
    "2. Музыкальные предпочтения не сильно меняются в течение недели — будь то Москва или Петербург. Небольшие различия заметны в начале недели, по понедельникам:\n",
    "* в Москве слушают музыку жанра “world”,\n",
    "* в Петербурге — джаз и классику.\n",
    "\n",
    "Таким образом, вторая гипотеза подтвердилась лишь отчасти. Этот результат мог оказаться иным, если бы не пропуски в данных.\n",
    "\n",
    "3. Во вкусах пользователей Москвы и Петербурга больше общего, чем различий. Вопреки ожиданиям, предпочтения жанров в Петербурге напоминают московские.\n",
    "\n",
    "Третья гипотеза не подтвердилась. Если различия в предпочтениях и существуют, на основной массе пользователей они незаметны.\n",
    "\n",
    "**На практике исследования содержат проверки статистических гипотез.**\n",
    "Из части данных одного сервиса невозможно сделать какие-то выводы о всех пользователях сервиса без методов статистики.\n",
    "Проверки статистических гипотез покажут, насколько они достоверны, исходя из имеющихся данных.\n",
    "С методами проверок гипотез вы ещё познакомитесь в следующих темах."
   ]
  }
 ],
 "metadata": {
  "ExecuteTimeLog": [
   {
    "duration": 474,
    "start_time": "2024-08-05T18:38:14.080Z"
   },
   {
    "duration": 105,
    "start_time": "2024-08-05T18:39:14.483Z"
   },
   {
    "duration": 2,
    "start_time": "2024-08-05T18:40:54.539Z"
   },
   {
    "duration": 6,
    "start_time": "2024-08-05T18:41:07.253Z"
   },
   {
    "duration": 65,
    "start_time": "2024-08-05T18:42:51.695Z"
   },
   {
    "duration": 419,
    "start_time": "2024-08-05T18:43:09.827Z"
   },
   {
    "duration": 103,
    "start_time": "2024-08-05T18:43:10.248Z"
   },
   {
    "duration": 0,
    "start_time": "2024-08-05T18:43:10.354Z"
   },
   {
    "duration": 0,
    "start_time": "2024-08-05T18:43:10.356Z"
   },
   {
    "duration": 0,
    "start_time": "2024-08-05T18:43:10.357Z"
   },
   {
    "duration": 0,
    "start_time": "2024-08-05T18:43:10.358Z"
   },
   {
    "duration": 0,
    "start_time": "2024-08-05T18:43:10.359Z"
   },
   {
    "duration": 0,
    "start_time": "2024-08-05T18:43:10.360Z"
   },
   {
    "duration": 0,
    "start_time": "2024-08-05T18:43:10.361Z"
   },
   {
    "duration": 0,
    "start_time": "2024-08-05T18:43:10.362Z"
   },
   {
    "duration": 0,
    "start_time": "2024-08-05T18:43:10.382Z"
   },
   {
    "duration": 0,
    "start_time": "2024-08-05T18:43:10.383Z"
   },
   {
    "duration": 0,
    "start_time": "2024-08-05T18:43:10.384Z"
   },
   {
    "duration": 0,
    "start_time": "2024-08-05T18:43:10.385Z"
   },
   {
    "duration": 0,
    "start_time": "2024-08-05T18:43:10.386Z"
   },
   {
    "duration": 0,
    "start_time": "2024-08-05T18:43:10.388Z"
   },
   {
    "duration": 0,
    "start_time": "2024-08-05T18:43:10.389Z"
   },
   {
    "duration": 0,
    "start_time": "2024-08-05T18:43:10.390Z"
   },
   {
    "duration": 0,
    "start_time": "2024-08-05T18:43:10.391Z"
   },
   {
    "duration": 0,
    "start_time": "2024-08-05T18:43:10.392Z"
   },
   {
    "duration": 0,
    "start_time": "2024-08-05T18:43:10.393Z"
   },
   {
    "duration": 0,
    "start_time": "2024-08-05T18:43:10.394Z"
   },
   {
    "duration": 0,
    "start_time": "2024-08-05T18:43:10.395Z"
   },
   {
    "duration": 0,
    "start_time": "2024-08-05T18:43:10.396Z"
   },
   {
    "duration": 0,
    "start_time": "2024-08-05T18:43:10.397Z"
   },
   {
    "duration": 0,
    "start_time": "2024-08-05T18:43:10.399Z"
   },
   {
    "duration": 0,
    "start_time": "2024-08-05T18:43:10.400Z"
   },
   {
    "duration": 0,
    "start_time": "2024-08-05T18:43:10.401Z"
   },
   {
    "duration": 0,
    "start_time": "2024-08-05T18:43:10.402Z"
   },
   {
    "duration": 0,
    "start_time": "2024-08-05T18:43:10.403Z"
   },
   {
    "duration": 0,
    "start_time": "2024-08-05T18:43:10.404Z"
   },
   {
    "duration": 0,
    "start_time": "2024-08-05T18:43:10.405Z"
   },
   {
    "duration": 0,
    "start_time": "2024-08-05T18:43:10.406Z"
   },
   {
    "duration": 0,
    "start_time": "2024-08-05T18:43:10.407Z"
   },
   {
    "duration": 0,
    "start_time": "2024-08-05T18:43:10.409Z"
   },
   {
    "duration": 0,
    "start_time": "2024-08-05T18:43:10.410Z"
   },
   {
    "duration": 0,
    "start_time": "2024-08-05T18:43:10.411Z"
   },
   {
    "duration": 0,
    "start_time": "2024-08-05T18:43:10.412Z"
   },
   {
    "duration": 47,
    "start_time": "2024-08-05T18:43:35.633Z"
   },
   {
    "duration": 47,
    "start_time": "2024-08-05T18:43:44.346Z"
   },
   {
    "duration": 59,
    "start_time": "2024-08-05T18:44:03.737Z"
   },
   {
    "duration": 64,
    "start_time": "2024-08-05T18:44:08.798Z"
   },
   {
    "duration": 465,
    "start_time": "2024-08-05T18:48:55.214Z"
   },
   {
    "duration": 25,
    "start_time": "2024-08-05T18:49:21.885Z"
   },
   {
    "duration": 34,
    "start_time": "2024-08-05T18:49:57.424Z"
   },
   {
    "duration": 5,
    "start_time": "2024-08-05T19:00:27.043Z"
   },
   {
    "duration": 72,
    "start_time": "2024-08-05T19:03:33.860Z"
   },
   {
    "duration": 25,
    "start_time": "2024-08-05T19:04:04.204Z"
   },
   {
    "duration": 49,
    "start_time": "2024-08-06T06:15:43.857Z"
   },
   {
    "duration": 430,
    "start_time": "2024-08-06T06:15:54.253Z"
   },
   {
    "duration": 464,
    "start_time": "2024-08-06T06:15:54.685Z"
   },
   {
    "duration": 17,
    "start_time": "2024-08-06T06:15:55.150Z"
   },
   {
    "duration": 31,
    "start_time": "2024-08-06T06:15:55.169Z"
   },
   {
    "duration": 4,
    "start_time": "2024-08-06T06:15:55.202Z"
   },
   {
    "duration": 6,
    "start_time": "2024-08-06T06:15:55.208Z"
   },
   {
    "duration": 12,
    "start_time": "2024-08-06T06:15:55.216Z"
   },
   {
    "duration": 18,
    "start_time": "2024-08-06T06:15:55.230Z"
   },
   {
    "duration": 9,
    "start_time": "2024-08-06T06:15:55.249Z"
   },
   {
    "duration": 5,
    "start_time": "2024-08-06T06:15:55.260Z"
   },
   {
    "duration": 9,
    "start_time": "2024-08-06T06:15:55.266Z"
   },
   {
    "duration": 7,
    "start_time": "2024-08-06T06:15:55.277Z"
   },
   {
    "duration": 12,
    "start_time": "2024-08-06T06:15:55.286Z"
   },
   {
    "duration": 52,
    "start_time": "2024-08-06T06:15:55.300Z"
   },
   {
    "duration": 17,
    "start_time": "2024-08-06T06:15:55.353Z"
   },
   {
    "duration": 13,
    "start_time": "2024-08-06T06:15:55.372Z"
   },
   {
    "duration": 15,
    "start_time": "2024-08-06T06:15:55.386Z"
   },
   {
    "duration": 11,
    "start_time": "2024-08-06T06:15:55.402Z"
   },
   {
    "duration": 11,
    "start_time": "2024-08-06T06:15:55.415Z"
   },
   {
    "duration": 53,
    "start_time": "2024-08-06T06:15:55.428Z"
   },
   {
    "duration": 0,
    "start_time": "2024-08-06T06:15:55.484Z"
   },
   {
    "duration": 0,
    "start_time": "2024-08-06T06:15:55.485Z"
   },
   {
    "duration": 0,
    "start_time": "2024-08-06T06:15:55.485Z"
   },
   {
    "duration": 0,
    "start_time": "2024-08-06T06:15:55.486Z"
   },
   {
    "duration": 0,
    "start_time": "2024-08-06T06:15:55.487Z"
   },
   {
    "duration": 0,
    "start_time": "2024-08-06T06:15:55.488Z"
   },
   {
    "duration": 0,
    "start_time": "2024-08-06T06:15:55.489Z"
   },
   {
    "duration": 0,
    "start_time": "2024-08-06T06:15:55.490Z"
   },
   {
    "duration": 0,
    "start_time": "2024-08-06T06:15:55.491Z"
   },
   {
    "duration": 0,
    "start_time": "2024-08-06T06:15:55.492Z"
   },
   {
    "duration": 0,
    "start_time": "2024-08-06T06:15:55.493Z"
   },
   {
    "duration": 0,
    "start_time": "2024-08-06T06:15:55.494Z"
   },
   {
    "duration": 0,
    "start_time": "2024-08-06T06:15:55.494Z"
   },
   {
    "duration": 0,
    "start_time": "2024-08-06T06:15:55.495Z"
   },
   {
    "duration": 0,
    "start_time": "2024-08-06T06:15:55.496Z"
   },
   {
    "duration": 0,
    "start_time": "2024-08-06T06:15:55.497Z"
   },
   {
    "duration": 0,
    "start_time": "2024-08-06T06:15:55.498Z"
   },
   {
    "duration": 0,
    "start_time": "2024-08-06T06:15:55.499Z"
   },
   {
    "duration": 35,
    "start_time": "2024-08-06T06:17:11.194Z"
   },
   {
    "duration": 28,
    "start_time": "2024-08-06T06:17:24.897Z"
   },
   {
    "duration": 29,
    "start_time": "2024-08-06T06:17:42.906Z"
   },
   {
    "duration": 28,
    "start_time": "2024-08-06T06:17:48.300Z"
   },
   {
    "duration": 28,
    "start_time": "2024-08-06T06:23:07.073Z"
   },
   {
    "duration": 2,
    "start_time": "2024-08-06T06:23:30.142Z"
   },
   {
    "duration": 30,
    "start_time": "2024-08-06T06:23:50.864Z"
   },
   {
    "duration": 70,
    "start_time": "2024-08-06T06:24:48.330Z"
   },
   {
    "duration": 65,
    "start_time": "2024-08-06T06:24:55.848Z"
   },
   {
    "duration": 3,
    "start_time": "2024-08-06T06:25:37.133Z"
   },
   {
    "duration": 85,
    "start_time": "2024-08-06T06:26:48.192Z"
   },
   {
    "duration": 86,
    "start_time": "2024-08-06T06:27:38.281Z"
   },
   {
    "duration": 94,
    "start_time": "2024-08-06T06:28:06.556Z"
   },
   {
    "duration": 64,
    "start_time": "2024-08-06T06:28:52.186Z"
   },
   {
    "duration": 10,
    "start_time": "2024-08-06T06:34:53.275Z"
   },
   {
    "duration": 6,
    "start_time": "2024-08-06T06:35:02.629Z"
   },
   {
    "duration": 8,
    "start_time": "2024-08-06T06:35:39.533Z"
   },
   {
    "duration": 69,
    "start_time": "2024-08-06T06:36:52.341Z"
   },
   {
    "duration": 15,
    "start_time": "2024-08-06T06:38:05.312Z"
   },
   {
    "duration": 9,
    "start_time": "2024-08-06T06:39:07.455Z"
   },
   {
    "duration": 10,
    "start_time": "2024-08-06T06:40:22.697Z"
   },
   {
    "duration": 11,
    "start_time": "2024-08-06T06:40:52.957Z"
   },
   {
    "duration": 8,
    "start_time": "2024-08-06T06:41:09.767Z"
   },
   {
    "duration": 44,
    "start_time": "2024-08-06T06:44:32.743Z"
   },
   {
    "duration": 2,
    "start_time": "2024-08-06T06:49:51.341Z"
   },
   {
    "duration": 13,
    "start_time": "2024-08-06T06:53:45.952Z"
   },
   {
    "duration": 2,
    "start_time": "2024-08-06T06:54:39.321Z"
   },
   {
    "duration": 45,
    "start_time": "2024-08-06T06:54:45.755Z"
   },
   {
    "duration": 6,
    "start_time": "2024-08-06T07:04:43.363Z"
   },
   {
    "duration": 45,
    "start_time": "2024-08-06T07:05:20.688Z"
   },
   {
    "duration": 35,
    "start_time": "2024-08-06T07:05:52.784Z"
   },
   {
    "duration": 8,
    "start_time": "2024-08-06T07:07:36.049Z"
   },
   {
    "duration": 34,
    "start_time": "2024-08-06T07:09:46.865Z"
   },
   {
    "duration": 37,
    "start_time": "2024-08-06T07:09:52.561Z"
   },
   {
    "duration": 35,
    "start_time": "2024-08-06T07:10:30.346Z"
   },
   {
    "duration": 39,
    "start_time": "2024-08-06T07:17:30.212Z"
   },
   {
    "duration": 73,
    "start_time": "2024-08-06T07:25:36.598Z"
   },
   {
    "duration": 3,
    "start_time": "2024-08-06T07:26:04.093Z"
   },
   {
    "duration": 5,
    "start_time": "2024-08-06T08:00:43.649Z"
   },
   {
    "duration": 36,
    "start_time": "2024-08-06T08:01:40.304Z"
   },
   {
    "duration": 9,
    "start_time": "2024-08-06T08:29:09.464Z"
   },
   {
    "duration": 360,
    "start_time": "2024-08-06T08:29:19.597Z"
   },
   {
    "duration": 180,
    "start_time": "2024-08-06T08:29:19.959Z"
   },
   {
    "duration": 18,
    "start_time": "2024-08-06T08:29:20.141Z"
   },
   {
    "duration": 36,
    "start_time": "2024-08-06T08:29:20.161Z"
   },
   {
    "duration": 3,
    "start_time": "2024-08-06T08:29:20.199Z"
   },
   {
    "duration": 5,
    "start_time": "2024-08-06T08:29:20.204Z"
   },
   {
    "duration": 35,
    "start_time": "2024-08-06T08:29:20.211Z"
   },
   {
    "duration": 13,
    "start_time": "2024-08-06T08:29:20.248Z"
   },
   {
    "duration": 47,
    "start_time": "2024-08-06T08:29:20.264Z"
   },
   {
    "duration": 33,
    "start_time": "2024-08-06T08:29:20.314Z"
   },
   {
    "duration": 29,
    "start_time": "2024-08-06T08:29:20.349Z"
   },
   {
    "duration": 84,
    "start_time": "2024-08-06T08:29:20.380Z"
   },
   {
    "duration": 90,
    "start_time": "2024-08-06T08:29:20.465Z"
   },
   {
    "duration": 90,
    "start_time": "2024-08-06T08:29:20.557Z"
   },
   {
    "duration": 43,
    "start_time": "2024-08-06T08:29:20.649Z"
   },
   {
    "duration": 11,
    "start_time": "2024-08-06T08:29:20.694Z"
   },
   {
    "duration": 65,
    "start_time": "2024-08-06T08:29:20.706Z"
   },
   {
    "duration": 47,
    "start_time": "2024-08-06T08:29:20.773Z"
   },
   {
    "duration": 57,
    "start_time": "2024-08-06T08:29:20.822Z"
   },
   {
    "duration": 4,
    "start_time": "2024-08-06T08:29:20.880Z"
   },
   {
    "duration": 15,
    "start_time": "2024-08-06T08:29:20.885Z"
   },
   {
    "duration": 10,
    "start_time": "2024-08-06T08:29:20.901Z"
   },
   {
    "duration": 16,
    "start_time": "2024-08-06T08:29:20.913Z"
   },
   {
    "duration": 9,
    "start_time": "2024-08-06T08:29:20.931Z"
   },
   {
    "duration": 5,
    "start_time": "2024-08-06T08:29:20.942Z"
   },
   {
    "duration": 8,
    "start_time": "2024-08-06T08:29:20.949Z"
   },
   {
    "duration": 18,
    "start_time": "2024-08-06T08:29:20.959Z"
   },
   {
    "duration": 55,
    "start_time": "2024-08-06T08:29:20.980Z"
   },
   {
    "duration": 30,
    "start_time": "2024-08-06T08:29:21.037Z"
   },
   {
    "duration": 57,
    "start_time": "2024-08-06T08:29:21.068Z"
   },
   {
    "duration": 0,
    "start_time": "2024-08-06T08:29:21.127Z"
   },
   {
    "duration": 0,
    "start_time": "2024-08-06T08:29:21.128Z"
   },
   {
    "duration": 0,
    "start_time": "2024-08-06T08:29:21.129Z"
   },
   {
    "duration": 0,
    "start_time": "2024-08-06T08:29:21.130Z"
   },
   {
    "duration": 0,
    "start_time": "2024-08-06T08:29:21.131Z"
   },
   {
    "duration": 0,
    "start_time": "2024-08-06T08:29:21.132Z"
   },
   {
    "duration": 0,
    "start_time": "2024-08-06T08:29:21.133Z"
   },
   {
    "duration": 1,
    "start_time": "2024-08-06T08:29:21.134Z"
   },
   {
    "duration": 73,
    "start_time": "2024-08-06T08:31:44.592Z"
   },
   {
    "duration": 41,
    "start_time": "2024-08-06T08:32:45.208Z"
   },
   {
    "duration": 3,
    "start_time": "2024-08-06T08:42:56.891Z"
   },
   {
    "duration": 184,
    "start_time": "2024-08-06T08:42:56.897Z"
   },
   {
    "duration": 11,
    "start_time": "2024-08-06T08:42:57.083Z"
   },
   {
    "duration": 33,
    "start_time": "2024-08-06T08:42:57.096Z"
   },
   {
    "duration": 15,
    "start_time": "2024-08-06T08:42:57.131Z"
   },
   {
    "duration": 18,
    "start_time": "2024-08-06T08:42:57.148Z"
   },
   {
    "duration": 10,
    "start_time": "2024-08-06T08:42:57.168Z"
   },
   {
    "duration": 4,
    "start_time": "2024-08-06T08:42:57.180Z"
   },
   {
    "duration": 47,
    "start_time": "2024-08-06T08:42:57.186Z"
   },
   {
    "duration": 30,
    "start_time": "2024-08-06T08:42:57.234Z"
   },
   {
    "duration": 30,
    "start_time": "2024-08-06T08:42:57.265Z"
   },
   {
    "duration": 83,
    "start_time": "2024-08-06T08:42:57.297Z"
   },
   {
    "duration": 78,
    "start_time": "2024-08-06T08:42:57.383Z"
   },
   {
    "duration": 59,
    "start_time": "2024-08-06T08:42:57.463Z"
   },
   {
    "duration": 78,
    "start_time": "2024-08-06T08:42:57.524Z"
   },
   {
    "duration": 12,
    "start_time": "2024-08-06T08:42:57.604Z"
   },
   {
    "duration": 63,
    "start_time": "2024-08-06T08:42:57.617Z"
   },
   {
    "duration": 33,
    "start_time": "2024-08-06T08:42:57.681Z"
   },
   {
    "duration": 47,
    "start_time": "2024-08-06T08:42:57.715Z"
   },
   {
    "duration": 23,
    "start_time": "2024-08-06T08:49:11.299Z"
   },
   {
    "duration": 4,
    "start_time": "2024-08-06T08:49:17.645Z"
   },
   {
    "duration": 27,
    "start_time": "2024-08-06T08:49:36.432Z"
   },
   {
    "duration": 35,
    "start_time": "2024-08-06T08:49:54.230Z"
   },
   {
    "duration": 2,
    "start_time": "2024-08-06T08:50:02.375Z"
   },
   {
    "duration": 21,
    "start_time": "2024-08-06T08:50:17.899Z"
   },
   {
    "duration": 25,
    "start_time": "2024-08-06T08:50:35.765Z"
   },
   {
    "duration": 19,
    "start_time": "2024-08-06T08:50:53.316Z"
   },
   {
    "duration": 4,
    "start_time": "2024-08-06T08:58:30.136Z"
   },
   {
    "duration": 2,
    "start_time": "2024-08-06T08:58:40.562Z"
   },
   {
    "duration": 202,
    "start_time": "2024-08-06T08:58:40.566Z"
   },
   {
    "duration": 11,
    "start_time": "2024-08-06T08:58:40.770Z"
   },
   {
    "duration": 48,
    "start_time": "2024-08-06T08:58:40.784Z"
   },
   {
    "duration": 14,
    "start_time": "2024-08-06T08:58:40.834Z"
   },
   {
    "duration": 10,
    "start_time": "2024-08-06T08:58:40.853Z"
   },
   {
    "duration": 14,
    "start_time": "2024-08-06T08:58:40.864Z"
   },
   {
    "duration": 8,
    "start_time": "2024-08-06T08:58:40.880Z"
   },
   {
    "duration": 45,
    "start_time": "2024-08-06T08:58:40.891Z"
   },
   {
    "duration": 28,
    "start_time": "2024-08-06T08:58:40.937Z"
   },
   {
    "duration": 37,
    "start_time": "2024-08-06T08:58:40.967Z"
   },
   {
    "duration": 89,
    "start_time": "2024-08-06T08:58:41.006Z"
   },
   {
    "duration": 91,
    "start_time": "2024-08-06T08:58:41.097Z"
   },
   {
    "duration": 70,
    "start_time": "2024-08-06T08:58:41.190Z"
   },
   {
    "duration": 44,
    "start_time": "2024-08-06T08:58:41.261Z"
   },
   {
    "duration": 13,
    "start_time": "2024-08-06T08:58:41.307Z"
   },
   {
    "duration": 67,
    "start_time": "2024-08-06T08:58:41.321Z"
   },
   {
    "duration": 34,
    "start_time": "2024-08-06T08:58:41.390Z"
   },
   {
    "duration": 56,
    "start_time": "2024-08-06T08:58:41.425Z"
   },
   {
    "duration": 3,
    "start_time": "2024-08-06T08:58:41.483Z"
   },
   {
    "duration": 50,
    "start_time": "2024-08-06T08:58:41.487Z"
   },
   {
    "duration": 115,
    "start_time": "2024-08-06T08:58:41.538Z"
   },
   {
    "duration": 19,
    "start_time": "2024-08-06T08:58:41.655Z"
   },
   {
    "duration": 22,
    "start_time": "2024-08-06T08:58:41.677Z"
   },
   {
    "duration": 27,
    "start_time": "2024-08-06T08:58:41.701Z"
   },
   {
    "duration": 15,
    "start_time": "2024-08-06T09:14:32.563Z"
   },
   {
    "duration": 10,
    "start_time": "2024-08-06T09:16:41.866Z"
   },
   {
    "duration": 10,
    "start_time": "2024-08-06T09:17:09.659Z"
   },
   {
    "duration": 9,
    "start_time": "2024-08-06T09:17:20.029Z"
   },
   {
    "duration": 17,
    "start_time": "2024-08-06T09:17:56.885Z"
   },
   {
    "duration": 11,
    "start_time": "2024-08-06T09:18:06.199Z"
   },
   {
    "duration": 14,
    "start_time": "2024-08-06T09:27:33.743Z"
   },
   {
    "duration": 83,
    "start_time": "2024-08-06T09:28:42.817Z"
   },
   {
    "duration": 85,
    "start_time": "2024-08-06T09:29:17.649Z"
   },
   {
    "duration": 60,
    "start_time": "2024-08-06T11:05:15.333Z"
   },
   {
    "duration": 432,
    "start_time": "2024-08-06T11:05:34.838Z"
   },
   {
    "duration": 465,
    "start_time": "2024-08-06T11:05:35.272Z"
   },
   {
    "duration": 17,
    "start_time": "2024-08-06T11:05:35.739Z"
   },
   {
    "duration": 46,
    "start_time": "2024-08-06T11:05:35.758Z"
   },
   {
    "duration": 3,
    "start_time": "2024-08-06T11:05:35.806Z"
   },
   {
    "duration": 11,
    "start_time": "2024-08-06T11:05:35.811Z"
   },
   {
    "duration": 11,
    "start_time": "2024-08-06T11:05:35.823Z"
   },
   {
    "duration": 7,
    "start_time": "2024-08-06T11:05:35.836Z"
   },
   {
    "duration": 57,
    "start_time": "2024-08-06T11:05:35.845Z"
   },
   {
    "duration": 20,
    "start_time": "2024-08-06T11:05:35.906Z"
   },
   {
    "duration": 33,
    "start_time": "2024-08-06T11:05:35.928Z"
   },
   {
    "duration": 85,
    "start_time": "2024-08-06T11:05:35.962Z"
   },
   {
    "duration": 84,
    "start_time": "2024-08-06T11:05:36.048Z"
   },
   {
    "duration": 74,
    "start_time": "2024-08-06T11:05:36.134Z"
   },
   {
    "duration": 52,
    "start_time": "2024-08-06T11:05:36.210Z"
   },
   {
    "duration": 12,
    "start_time": "2024-08-06T11:05:36.263Z"
   },
   {
    "duration": 47,
    "start_time": "2024-08-06T11:05:36.276Z"
   },
   {
    "duration": 72,
    "start_time": "2024-08-06T11:05:36.325Z"
   },
   {
    "duration": 50,
    "start_time": "2024-08-06T11:05:36.399Z"
   },
   {
    "duration": 10,
    "start_time": "2024-08-06T11:05:36.451Z"
   },
   {
    "duration": 39,
    "start_time": "2024-08-06T11:05:36.463Z"
   },
   {
    "duration": 15,
    "start_time": "2024-08-06T11:05:36.503Z"
   },
   {
    "duration": 15,
    "start_time": "2024-08-06T11:05:36.520Z"
   },
   {
    "duration": 25,
    "start_time": "2024-08-06T11:05:36.536Z"
   },
   {
    "duration": 16,
    "start_time": "2024-08-06T11:05:36.563Z"
   },
   {
    "duration": 17,
    "start_time": "2024-08-06T11:05:36.581Z"
   },
   {
    "duration": 101,
    "start_time": "2024-08-06T11:05:36.600Z"
   },
   {
    "duration": 23,
    "start_time": "2024-08-06T11:05:43.514Z"
   },
   {
    "duration": 8,
    "start_time": "2024-08-06T11:06:24.054Z"
   },
   {
    "duration": 100,
    "start_time": "2024-08-06T11:20:38.935Z"
   },
   {
    "duration": 6,
    "start_time": "2024-08-06T11:24:54.475Z"
   },
   {
    "duration": 6,
    "start_time": "2024-08-06T11:31:39.001Z"
   },
   {
    "duration": 4,
    "start_time": "2024-08-06T11:35:23.932Z"
   },
   {
    "duration": 3,
    "start_time": "2024-08-06T11:36:44.654Z"
   },
   {
    "duration": 200,
    "start_time": "2024-08-06T11:36:44.663Z"
   },
   {
    "duration": 11,
    "start_time": "2024-08-06T11:36:44.865Z"
   },
   {
    "duration": 38,
    "start_time": "2024-08-06T11:36:44.877Z"
   },
   {
    "duration": 21,
    "start_time": "2024-08-06T11:36:44.916Z"
   },
   {
    "duration": 18,
    "start_time": "2024-08-06T11:36:44.939Z"
   },
   {
    "duration": 16,
    "start_time": "2024-08-06T11:36:44.958Z"
   },
   {
    "duration": 22,
    "start_time": "2024-08-06T11:36:44.976Z"
   },
   {
    "duration": 85,
    "start_time": "2024-08-06T11:36:44.999Z"
   },
   {
    "duration": 51,
    "start_time": "2024-08-06T11:36:45.085Z"
   },
   {
    "duration": 56,
    "start_time": "2024-08-06T11:36:45.137Z"
   },
   {
    "duration": 91,
    "start_time": "2024-08-06T11:36:45.194Z"
   },
   {
    "duration": 82,
    "start_time": "2024-08-06T11:36:45.286Z"
   },
   {
    "duration": 57,
    "start_time": "2024-08-06T11:36:45.370Z"
   },
   {
    "duration": 56,
    "start_time": "2024-08-06T11:36:45.430Z"
   },
   {
    "duration": 11,
    "start_time": "2024-08-06T11:36:45.487Z"
   },
   {
    "duration": 41,
    "start_time": "2024-08-06T11:36:45.500Z"
   },
   {
    "duration": 48,
    "start_time": "2024-08-06T11:36:45.543Z"
   },
   {
    "duration": 34,
    "start_time": "2024-08-06T11:36:45.592Z"
   },
   {
    "duration": 3,
    "start_time": "2024-08-06T11:36:45.628Z"
   },
   {
    "duration": 39,
    "start_time": "2024-08-06T11:36:45.633Z"
   },
   {
    "duration": 24,
    "start_time": "2024-08-06T11:36:45.674Z"
   },
   {
    "duration": 27,
    "start_time": "2024-08-06T11:36:45.699Z"
   },
   {
    "duration": 14,
    "start_time": "2024-08-06T11:36:45.728Z"
   },
   {
    "duration": 29,
    "start_time": "2024-08-06T11:36:45.744Z"
   },
   {
    "duration": 17,
    "start_time": "2024-08-06T11:36:45.775Z"
   },
   {
    "duration": 99,
    "start_time": "2024-08-06T11:36:45.794Z"
   },
   {
    "duration": 13,
    "start_time": "2024-08-06T11:36:45.894Z"
   },
   {
    "duration": 39,
    "start_time": "2024-08-06T11:36:45.909Z"
   },
   {
    "duration": 5,
    "start_time": "2024-08-06T11:36:45.951Z"
   },
   {
    "duration": 4,
    "start_time": "2024-08-06T11:46:23.098Z"
   },
   {
    "duration": 10,
    "start_time": "2024-08-06T11:49:44.075Z"
   },
   {
    "duration": 16,
    "start_time": "2024-08-06T11:51:41.149Z"
   },
   {
    "duration": 15,
    "start_time": "2024-08-06T11:52:23.622Z"
   },
   {
    "duration": 3,
    "start_time": "2024-08-06T11:53:10.785Z"
   },
   {
    "duration": 24,
    "start_time": "2024-08-06T11:53:15.823Z"
   },
   {
    "duration": 13,
    "start_time": "2024-08-06T11:53:24.124Z"
   },
   {
    "duration": 2,
    "start_time": "2024-08-06T11:55:06.735Z"
   },
   {
    "duration": 272,
    "start_time": "2024-08-06T11:55:06.738Z"
   },
   {
    "duration": 10,
    "start_time": "2024-08-06T11:55:07.011Z"
   },
   {
    "duration": 65,
    "start_time": "2024-08-06T11:55:07.022Z"
   },
   {
    "duration": 7,
    "start_time": "2024-08-06T11:55:07.088Z"
   },
   {
    "duration": 23,
    "start_time": "2024-08-06T11:55:07.097Z"
   },
   {
    "duration": 18,
    "start_time": "2024-08-06T11:55:07.122Z"
   },
   {
    "duration": 8,
    "start_time": "2024-08-06T11:55:07.142Z"
   },
   {
    "duration": 39,
    "start_time": "2024-08-06T11:55:07.152Z"
   },
   {
    "duration": 18,
    "start_time": "2024-08-06T11:55:07.192Z"
   },
   {
    "duration": 27,
    "start_time": "2024-08-06T11:55:07.212Z"
   },
   {
    "duration": 69,
    "start_time": "2024-08-06T11:55:07.240Z"
   },
   {
    "duration": 72,
    "start_time": "2024-08-06T11:55:07.310Z"
   },
   {
    "duration": 58,
    "start_time": "2024-08-06T11:55:07.383Z"
   },
   {
    "duration": 47,
    "start_time": "2024-08-06T11:55:07.443Z"
   },
   {
    "duration": 11,
    "start_time": "2024-08-06T11:55:07.491Z"
   },
   {
    "duration": 49,
    "start_time": "2024-08-06T11:55:07.503Z"
   },
   {
    "duration": 35,
    "start_time": "2024-08-06T11:55:07.553Z"
   },
   {
    "duration": 30,
    "start_time": "2024-08-06T11:55:07.589Z"
   },
   {
    "duration": 13,
    "start_time": "2024-08-06T11:55:07.620Z"
   },
   {
    "duration": 38,
    "start_time": "2024-08-06T11:55:07.634Z"
   },
   {
    "duration": 14,
    "start_time": "2024-08-06T11:55:07.674Z"
   },
   {
    "duration": 27,
    "start_time": "2024-08-06T11:55:07.689Z"
   },
   {
    "duration": 18,
    "start_time": "2024-08-06T11:55:07.718Z"
   },
   {
    "duration": 22,
    "start_time": "2024-08-06T11:55:07.738Z"
   },
   {
    "duration": 14,
    "start_time": "2024-08-06T11:55:07.762Z"
   },
   {
    "duration": 87,
    "start_time": "2024-08-06T11:55:07.777Z"
   },
   {
    "duration": 12,
    "start_time": "2024-08-06T11:55:07.865Z"
   },
   {
    "duration": 27,
    "start_time": "2024-08-06T11:55:07.880Z"
   },
   {
    "duration": 18,
    "start_time": "2024-08-06T11:55:07.909Z"
   },
   {
    "duration": 56,
    "start_time": "2024-08-06T11:55:07.929Z"
   },
   {
    "duration": 12,
    "start_time": "2024-08-06T11:55:07.987Z"
   },
   {
    "duration": 31,
    "start_time": "2024-08-06T11:55:08.000Z"
   },
   {
    "duration": 12,
    "start_time": "2024-08-06T11:55:13.093Z"
   },
   {
    "duration": 3,
    "start_time": "2024-08-06T11:56:30.771Z"
   },
   {
    "duration": 262,
    "start_time": "2024-08-06T11:56:30.776Z"
   },
   {
    "duration": 10,
    "start_time": "2024-08-06T11:56:31.040Z"
   },
   {
    "duration": 79,
    "start_time": "2024-08-06T11:56:31.052Z"
   },
   {
    "duration": 26,
    "start_time": "2024-08-06T11:56:31.133Z"
   },
   {
    "duration": 18,
    "start_time": "2024-08-06T11:56:31.171Z"
   },
   {
    "duration": 41,
    "start_time": "2024-08-06T11:56:31.191Z"
   },
   {
    "duration": 24,
    "start_time": "2024-08-06T11:56:31.234Z"
   },
   {
    "duration": 59,
    "start_time": "2024-08-06T11:56:31.260Z"
   },
   {
    "duration": 55,
    "start_time": "2024-08-06T11:56:31.322Z"
   },
   {
    "duration": 31,
    "start_time": "2024-08-06T11:56:31.379Z"
   },
   {
    "duration": 107,
    "start_time": "2024-08-06T11:56:31.412Z"
   },
   {
    "duration": 94,
    "start_time": "2024-08-06T11:56:31.520Z"
   },
   {
    "duration": 71,
    "start_time": "2024-08-06T11:56:31.616Z"
   },
   {
    "duration": 55,
    "start_time": "2024-08-06T11:56:31.688Z"
   },
   {
    "duration": 33,
    "start_time": "2024-08-06T11:56:31.745Z"
   },
   {
    "duration": 48,
    "start_time": "2024-08-06T11:56:31.779Z"
   },
   {
    "duration": 42,
    "start_time": "2024-08-06T11:56:31.829Z"
   },
   {
    "duration": 30,
    "start_time": "2024-08-06T11:56:31.878Z"
   },
   {
    "duration": 3,
    "start_time": "2024-08-06T11:56:31.910Z"
   },
   {
    "duration": 62,
    "start_time": "2024-08-06T11:56:31.914Z"
   },
   {
    "duration": 25,
    "start_time": "2024-08-06T11:56:31.977Z"
   },
   {
    "duration": 49,
    "start_time": "2024-08-06T11:56:32.003Z"
   },
   {
    "duration": 31,
    "start_time": "2024-08-06T11:56:32.055Z"
   },
   {
    "duration": 53,
    "start_time": "2024-08-06T11:56:32.087Z"
   },
   {
    "duration": 68,
    "start_time": "2024-08-06T11:56:32.142Z"
   },
   {
    "duration": 113,
    "start_time": "2024-08-06T11:56:32.211Z"
   },
   {
    "duration": 12,
    "start_time": "2024-08-06T11:56:32.325Z"
   },
   {
    "duration": 51,
    "start_time": "2024-08-06T11:56:32.338Z"
   },
   {
    "duration": 28,
    "start_time": "2024-08-06T11:56:32.391Z"
   },
   {
    "duration": 68,
    "start_time": "2024-08-06T11:56:32.420Z"
   },
   {
    "duration": 23,
    "start_time": "2024-08-06T11:56:32.489Z"
   },
   {
    "duration": 60,
    "start_time": "2024-08-06T11:56:32.513Z"
   },
   {
    "duration": 34,
    "start_time": "2024-08-06T11:56:32.575Z"
   },
   {
    "duration": 9,
    "start_time": "2024-08-06T12:05:43.440Z"
   },
   {
    "duration": 4,
    "start_time": "2024-08-06T12:06:36.624Z"
   },
   {
    "duration": 29,
    "start_time": "2024-08-06T12:09:51.852Z"
   },
   {
    "duration": 7,
    "start_time": "2024-08-06T12:09:58.895Z"
   },
   {
    "duration": 5,
    "start_time": "2024-08-06T12:10:01.456Z"
   },
   {
    "duration": 43,
    "start_time": "2024-08-06T19:16:14.132Z"
   },
   {
    "duration": 393,
    "start_time": "2024-08-06T19:16:44.373Z"
   },
   {
    "duration": 447,
    "start_time": "2024-08-06T19:16:44.768Z"
   },
   {
    "duration": 14,
    "start_time": "2024-08-06T19:16:45.216Z"
   },
   {
    "duration": 56,
    "start_time": "2024-08-06T19:16:45.232Z"
   },
   {
    "duration": 20,
    "start_time": "2024-08-06T19:16:45.290Z"
   },
   {
    "duration": 35,
    "start_time": "2024-08-06T19:16:45.311Z"
   },
   {
    "duration": 47,
    "start_time": "2024-08-06T19:16:45.347Z"
   },
   {
    "duration": 20,
    "start_time": "2024-08-06T19:16:45.395Z"
   },
   {
    "duration": 26,
    "start_time": "2024-08-06T19:16:45.417Z"
   },
   {
    "duration": 70,
    "start_time": "2024-08-06T19:16:45.445Z"
   },
   {
    "duration": 18,
    "start_time": "2024-08-06T19:16:45.516Z"
   },
   {
    "duration": 68,
    "start_time": "2024-08-06T19:16:45.535Z"
   },
   {
    "duration": 65,
    "start_time": "2024-08-06T19:16:45.604Z"
   },
   {
    "duration": 63,
    "start_time": "2024-08-06T19:16:45.671Z"
   },
   {
    "duration": 34,
    "start_time": "2024-08-06T19:16:45.735Z"
   },
   {
    "duration": 9,
    "start_time": "2024-08-06T19:16:45.770Z"
   },
   {
    "duration": 58,
    "start_time": "2024-08-06T19:16:45.780Z"
   },
   {
    "duration": 23,
    "start_time": "2024-08-06T19:16:45.839Z"
   },
   {
    "duration": 24,
    "start_time": "2024-08-06T19:16:45.864Z"
   },
   {
    "duration": 13,
    "start_time": "2024-08-06T19:16:45.889Z"
   },
   {
    "duration": 50,
    "start_time": "2024-08-06T19:16:45.904Z"
   },
   {
    "duration": 67,
    "start_time": "2024-08-06T19:16:45.955Z"
   },
   {
    "duration": 11,
    "start_time": "2024-08-06T19:16:46.024Z"
   },
   {
    "duration": 85,
    "start_time": "2024-08-06T19:16:46.036Z"
   },
   {
    "duration": 55,
    "start_time": "2024-08-06T19:16:46.122Z"
   },
   {
    "duration": 50,
    "start_time": "2024-08-06T19:16:46.178Z"
   },
   {
    "duration": 59,
    "start_time": "2024-08-06T19:16:49.461Z"
   },
   {
    "duration": 57,
    "start_time": "2024-08-06T19:17:34.310Z"
   },
   {
    "duration": 68,
    "start_time": "2024-08-06T19:18:28.348Z"
   }
  ],
  "celltoolbar": "Отсутствует",
  "colab": {
   "collapsed_sections": [
    "E0vqbgi9ay0H",
    "VUC88oWjTJw2"
   ],
   "provenance": []
  },
  "kernelspec": {
   "display_name": "Python 3 (ipykernel)",
   "language": "python",
   "name": "python3"
  },
  "language_info": {
   "codemirror_mode": {
    "name": "ipython",
    "version": 3
   },
   "file_extension": ".py",
   "mimetype": "text/x-python",
   "name": "python",
   "nbconvert_exporter": "python",
   "pygments_lexer": "ipython3",
   "version": "3.12.4"
  },
  "toc": {
   "base_numbering": 1,
   "nav_menu": {
    "height": "215px",
    "width": "403px"
   },
   "number_sections": true,
   "sideBar": true,
   "skip_h1_title": true,
   "title_cell": "Table of Contents",
   "title_sidebar": "Contents",
   "toc_cell": false,
   "toc_position": {
    "height": "calc(100% - 180px)",
    "left": "10px",
    "top": "150px",
    "width": "285.825px"
   },
   "toc_section_display": true,
   "toc_window_display": false
  }
 },
 "nbformat": 4,
 "nbformat_minor": 4
}
